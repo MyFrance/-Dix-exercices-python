{
 "cells": [
  {
   "cell_type": "markdown",
   "id": "81959816",
   "metadata": {},
   "source": [
    "# Exercice 1\n",
    "Ecire un programme qui demande le nom et l'âge personne:\n",
    "Exemple:\n",
    "Bonjour David, tu as 18 ans et bienvenue à l'Université "
   ]
  },
  {
   "cell_type": "code",
   "execution_count": 1,
   "id": "304be81c",
   "metadata": {
    "ExecuteTime": {
     "end_time": "2022-05-11T10:38:26.182776Z",
     "start_time": "2022-05-11T10:38:13.397219Z"
    }
   },
   "outputs": [
    {
     "name": "stdout",
     "output_type": "stream",
     "text": [
      "Quel est votre nom ?5\n",
      "\n",
      "Quel est votre âge 5 ?5\n",
      "\n",
      "Bonjour 5, tu as 5 ans et bienvenue à l'Université\n"
     ]
    }
   ],
   "source": [
    "nom = input(\"Quel est votre nom ?\")\n",
    "\n",
    "#print(f'\\nBonjour, je m\\'appelle {nom}')\n",
    "age = input(f'\\nQuel est votre âge {nom} ?')\n",
    "#print(f'\\n J\\'ai {age} ans')\n",
    "print(f'\\nBonjour {nom}, tu as {age} ans et bienvenue à l\\'Université')\n"
   ]
  },
  {
   "cell_type": "markdown",
   "id": "e250b6fc",
   "metadata": {},
   "source": [
    "# Exercice 2:\n",
    "    Ecrire un programme qui demande l'année de naissance d'une personne et dans ce cas il calcule et affiche l'âge de la personne"
   ]
  },
  {
   "cell_type": "markdown",
   "id": "f543baa4",
   "metadata": {},
   "source": [
    "## Méthode 1"
   ]
  },
  {
   "cell_type": "code",
   "execution_count": 2,
   "id": "fac3b4b6",
   "metadata": {
    "ExecuteTime": {
     "end_time": "2022-05-11T10:38:28.346167Z",
     "start_time": "2022-05-11T10:38:26.187771Z"
    }
   },
   "outputs": [
    {
     "name": "stdout",
     "output_type": "stream",
     "text": [
      "Quel est votre année de naissance? 5\n",
      "\n",
      "Entrez l'année encours 5\n",
      "Vous avez 0 ans\n"
     ]
    }
   ],
   "source": [
    "annee_naissance = int(input(\"Quel est votre année de naissance? \"))\n",
    "annee_encours = int(input(\"\\nEntrez l'année encours \"))\n",
    "calcul_age = annee_encours - annee_naissance\n",
    "\n",
    "print(f'Vous avez {calcul_age} ans')"
   ]
  },
  {
   "cell_type": "markdown",
   "id": "21d44201",
   "metadata": {},
   "source": [
    "## Méthode 2"
   ]
  },
  {
   "cell_type": "raw",
   "id": "5ed3494b",
   "metadata": {
    "ExecuteTime": {
     "end_time": "2022-05-10T15:01:09.426668Z",
     "start_time": "2022-05-10T15:01:07.470959Z"
    }
   },
   "source": [
    "import pandas as pd \n",
    "import numpy as np\n",
    "import calendar\n",
    "from datetime import date \n",
    "\n",
    "annee_naissance = int(input(\"Quel est votre année de naissance? \"))\n",
    "date_actuel = date.year\n",
    "calcul_age = int(date_actuel) - annee_naissance\n",
    "print(f'Vous avez {calcul_age} ans')"
   ]
  },
  {
   "cell_type": "markdown",
   "id": "178dcb12",
   "metadata": {},
   "source": [
    "# Exercice 3\n",
    "Ecrire un programme qui permet d'afficher le périmètre du triangle"
   ]
  },
  {
   "cell_type": "code",
   "execution_count": 3,
   "id": "6dd8428f",
   "metadata": {
    "ExecuteTime": {
     "end_time": "2022-05-11T10:38:31.716285Z",
     "start_time": "2022-05-11T10:38:28.352779Z"
    }
   },
   "outputs": [
    {
     "name": "stdout",
     "output_type": "stream",
     "text": [
      "Entrer le côté 1 du triangle 5\n",
      "\n",
      "Entrer le côté 2 du triangle 5\n",
      "\n",
      "Entrer le côté 3 du triangle 5\n",
      "\n",
      "Le périmètre du triangle est 15.0 m\n"
     ]
    }
   ],
   "source": [
    "Cote1_triangle = float(input(\"Entrer le côté 1 du triangle \"))\n",
    "Cote2_triangle = float(input(\"\\nEntrer le côté 2 du triangle \"))\n",
    "Cote3_triangle = float(input(\"\\nEntrer le côté 3 du triangle \"))\n",
    "\n",
    "périmetre = Cote1_triangle + Cote2_triangle + Cote3_triangle\n",
    "print(f'\\nLe périmètre du triangle est {périmetre} m')"
   ]
  },
  {
   "cell_type": "markdown",
   "id": "b5d7adfd",
   "metadata": {},
   "source": [
    "# Exercice 4\n",
    "Ecrire un programme qui permet demande à l'utilisateur de saisir deux réels X et Y et qui affiche X puissance Y"
   ]
  },
  {
   "cell_type": "code",
   "execution_count": 4,
   "id": "ae3485fd",
   "metadata": {
    "ExecuteTime": {
     "end_time": "2022-05-11T10:38:33.652064Z",
     "start_time": "2022-05-11T10:38:31.720274Z"
    }
   },
   "outputs": [
    {
     "name": "stdout",
     "output_type": "stream",
     "text": [
      "Veuillez saisir une valeur 5\n",
      "Veuillez à nouveau saisir une valeur 5\n",
      "\n",
      "Le resultat du calcul de X puissance y est: 3125.0\n"
     ]
    }
   ],
   "source": [
    "X = float(input(\"Veuillez saisir une valeur \"))\n",
    "Y = float(input(\"Veuillez à nouveau saisir une valeur \"))\n",
    "puissance = X**Y\n",
    "print(f'\\nLe resultat du calcul de X puissance y est: {puissance}')"
   ]
  },
  {
   "cell_type": "markdown",
   "id": "a0ee6f47",
   "metadata": {},
   "source": [
    "# Exercice 5 \n",
    "Ecrire le programme qui permet de calculer la somme, le produit, la différence et la division de deux nombres réels"
   ]
  },
  {
   "cell_type": "code",
   "execution_count": 5,
   "id": "50587ace",
   "metadata": {
    "ExecuteTime": {
     "end_time": "2022-05-11T10:38:35.502055Z",
     "start_time": "2022-05-11T10:38:33.656055Z"
    }
   },
   "outputs": [
    {
     "name": "stdout",
     "output_type": "stream",
     "text": [
      "Rentrer une valeur  5\n",
      "\n",
      "Rentrer à nouveau une valeur  5\n",
      "\n",
      "   Le résultat de la somme est 10.0\n",
      "\n",
      "   Celle de la différence est 0.0\n",
      "\n",
      "   Celle du produit est 25.0\n",
      "\n",
      "   Et enfin celle de la division est 1.00\n"
     ]
    }
   ],
   "source": [
    "X = float(input(\"Rentrer une valeur  \"))\n",
    "Y = float(input(\"\\nRentrer à nouveau une valeur  \"))\n",
    "\n",
    "Somme = X + Y\n",
    "Difference = X - Y\n",
    "Produit = X * Y\n",
    "Division = X / Y\n",
    "print(f'\\n   Le résultat de la somme est {Somme}')\n",
    "print(f'\\n   Celle de la différence est {Difference}')\n",
    "print(f'\\n   Celle du produit est {Produit}')\n",
    "print(f'\\n   Et enfin celle de la division est', format(Division, \".2f\"))"
   ]
  },
  {
   "cell_type": "markdown",
   "id": "6564c4f8",
   "metadata": {},
   "source": [
    "# Exercice 6\n",
    "Nous allons écrire un programme qui demande à l'utilisateur de taper 5 notes et qui affiche leur somme et leur moyenne."
   ]
  },
  {
   "cell_type": "markdown",
   "id": "7dd46368",
   "metadata": {},
   "source": [
    "## Première méthode en passant par une fonction"
   ]
  },
  {
   "cell_type": "code",
   "execution_count": 5,
   "id": "90cf26e3",
   "metadata": {
    "ExecuteTime": {
     "end_time": "2022-05-11T13:05:53.476408Z",
     "start_time": "2022-05-11T13:05:43.408721Z"
    }
   },
   "outputs": [
    {
     "name": "stdout",
     "output_type": "stream",
     "text": [
      "a = 14\n",
      "b = 15\n",
      "c = 19\n",
      "d = 12\n",
      "e = 19\n",
      "somme =  79.0 \n",
      "Moyenne =  15.8\n"
     ]
    }
   ],
   "source": [
    "import statistics\n",
    "\n",
    "def notes_etudiant():\n",
    "    x= []\n",
    "    \n",
    "    a = float(input(\"a = \"))\n",
    "    b = float(input(\"b = \"))\n",
    "    c = float(input(\"c = \"))\n",
    "    d = float(input(\"d = \"))\n",
    "    e = float(input(\"e = \"))\n",
    "    x.append(a)\n",
    "    x.append(b)\n",
    "    x.append(c)\n",
    "    x.append(d)\n",
    "    x.append(e)\n",
    "    \n",
    "    somme = sum(x)\n",
    "    moyenne = statistics.mean(x)\n",
    "    print(\"somme = \",somme, \"\\nMoyenne = \", moyenne)\n",
    "    \n",
    "notes_etudiant()"
   ]
  },
  {
   "cell_type": "markdown",
   "id": "ce1801a0",
   "metadata": {},
   "source": [
    "## Deuxième méthode"
   ]
  },
  {
   "cell_type": "code",
   "execution_count": 16,
   "id": "a9edc66a",
   "metadata": {
    "ExecuteTime": {
     "end_time": "2022-05-11T13:28:29.016621Z",
     "start_time": "2022-05-11T13:28:24.823548Z"
    }
   },
   "outputs": [
    {
     "name": "stdout",
     "output_type": "stream",
     "text": [
      "Note1 = 1\n",
      "Note2 = 2\n",
      "Note3 = 3\n",
      "Note4 = 4\n",
      "Note5 = 5\n",
      "15.0\n",
      "3.0\n"
     ]
    }
   ],
   "source": [
    "import pandas as pd\n",
    "import statistics\n",
    "\n",
    "a = float(input(\"Note1 = \"))\n",
    "b = float(input(\"Note2 = \"))\n",
    "c = float(input(\"Note3 = \"))\n",
    "d = float(input(\"Note4 = \"))\n",
    "e = float(input(\"Note5 = \"))\n",
    "somme = a+b+c+d+e\n",
    "print(somme)\n",
    "moyenne = (a+b+c+d+e)/5\n",
    "print(moyenne)"
   ]
  },
  {
   "cell_type": "markdown",
   "id": "bcd8933d",
   "metadata": {},
   "source": [
    "# Exercice 7 : \n",
    "Programme qui calcule et affiche le volume d'une sphère "
   ]
  },
  {
   "cell_type": "code",
   "execution_count": 21,
   "id": "a560235f",
   "metadata": {
    "ExecuteTime": {
     "end_time": "2022-05-11T13:39:04.945498Z",
     "start_time": "2022-05-11T13:39:03.270667Z"
    }
   },
   "outputs": [
    {
     "name": "stdout",
     "output_type": "stream",
     "text": [
      "Valeur du rayon = 3.5\n",
      "Le volume de la sphère est :  179.59\n"
     ]
    }
   ],
   "source": [
    "# Le volume d'une sphère est 4/3pi*R**3\n",
    "\n",
    "from math import pi\n",
    "R = float(input(\"Valeur du rayon = \"))\n",
    "volume = 4* pi/3 * R**3\n",
    "print(\"Le volume de la sphère est : \", format(volume, \".2f\"))"
   ]
  },
  {
   "cell_type": "markdown",
   "id": "575a4cef",
   "metadata": {},
   "source": [
    "# Exercice 8\n",
    "Dans cette vidéo, nous allons écrire un programme qui demande à l’utilisateur de saisir 2 entiers A et B, qui échange le contenu des variables A et B puis qui affiche A et B\n"
   ]
  },
  {
   "cell_type": "code",
   "execution_count": 22,
   "id": "c28d40a8",
   "metadata": {
    "ExecuteTime": {
     "end_time": "2022-05-11T13:55:46.348093Z",
     "start_time": "2022-05-11T13:55:39.938186Z"
    }
   },
   "outputs": [
    {
     "name": "stdout",
     "output_type": "stream",
     "text": [
      "A = 5\n",
      "B = 6\n",
      "5.0\n"
     ]
    }
   ],
   "source": [
    "A = float(input(\"A = \"))\n",
    "B= float(input(\"B = \"))\n",
    "# On échange A\n",
    "C = A\n",
    "B = C \n",
    "\n",
    "print(B)"
   ]
  },
  {
   "cell_type": "markdown",
   "id": "379b3bad",
   "metadata": {},
   "source": [
    "# Exercice 9\n",
    "Nous allons écrire un programme qui demande un temps T (entier) exprimé en secondes, et qui le convertit en heures, minutes, secondes.\n",
    "Exemple : T = 56263 seconds =15 heures 37 minutes 43 seconds."
   ]
  },
  {
   "cell_type": "code",
   "execution_count": 15,
   "id": "398a85c3",
   "metadata": {
    "ExecuteTime": {
     "end_time": "2022-05-12T08:57:34.486969Z",
     "start_time": "2022-05-12T08:57:31.145903Z"
    }
   },
   "outputs": [
    {
     "name": "stdout",
     "output_type": "stream",
     "text": [
      "Entrer le temps =56263\n",
      "15.0 H: 37.0 M: 43.0 S:\n"
     ]
    }
   ],
   "source": [
    "temps = round(float(input(\"Entrer le temps =\")),2)\n",
    "# Calcul des heures \n",
    "Heures = temps// 3600 # on utilise la floor division\n",
    "reste = temps % 3600 # ici on utilise le modulo pour avoir le reste de la dision\n",
    "minutes = reste//60\n",
    "secondes = reste%60\n",
    "\n",
    "print(Heures,\"H:\", minutes,\"M:\", secondes,\"S:\")\n"
   ]
  },
  {
   "cell_type": "code",
   "execution_count": 14,
   "id": "a0e6e9f9",
   "metadata": {
    "ExecuteTime": {
     "end_time": "2022-05-12T08:56:48.413626Z",
     "start_time": "2022-05-12T08:56:42.572103Z"
    }
   },
   "outputs": [
    {
     "name": "stdout",
     "output_type": "stream",
     "text": [
      "entrez une valeur56263\n",
      "15:37:43\n"
     ]
    }
   ],
   "source": [
    "def convert(seconds):\n",
    "    Heures = temps// 3600 # on utilise la floor division\n",
    "    reste = temps % 3600 # ici on utilise le modulo pour avoir le reste de la dision\n",
    "    minutes = reste//60\n",
    "    secondes = reste%60\n",
    "    \n",
    "    \n",
    "    return \"%d:%02d:%02d\"%(Heures, minutes, secondes)\n",
    "\n",
    "n= float(input(\"entrez une valeur\"))\n",
    "\n",
    "print(convert(n))\n"
   ]
  },
  {
   "cell_type": "markdown",
   "id": "a8e2c563",
   "metadata": {},
   "source": [
    "# Exercice 10\n",
    "Nous allons écrire un programme qui calcule et affiche la distance entre deux points A et B du plan dont les coordonnées (XA , YA) et (XB , YB) sont entrées au clavier comme entiers. "
   ]
  },
  {
   "cell_type": "raw",
   "id": "aa8f11ed",
   "metadata": {},
   "source": [
    "La formule qui permet de calculer la distance entre deux points est la suivante:\n",
    "    d(AB) = racine_carré(XB -XA)² + (YB-YA)²"
   ]
  },
  {
   "cell_type": "code",
   "execution_count": 31,
   "id": "38d739fd",
   "metadata": {
    "ExecuteTime": {
     "end_time": "2022-05-12T09:43:25.366744Z",
     "start_time": "2022-05-12T09:43:13.065243Z"
    }
   },
   "outputs": [
    {
     "name": "stdout",
     "output_type": "stream",
     "text": [
      "XA =  2\n",
      "XB =  3\n",
      "YA =  2\n",
      "YB =  4\n",
      "2.23606797749979\n"
     ]
    }
   ],
   "source": [
    "from math import sqrt\n",
    "\n",
    "XA = int(input(\"XA =  \"))\n",
    "XB = int(input(\"XB =  \"))\n",
    "YA = int(input(\"YA =  \"))\n",
    "YB = int(input(\"YB =  \"))\n",
    "\n",
    "d_AB = sqrt((XA-XB)**2 + (YB-YA)**2)\n",
    "print(d_AB)"
   ]
  }
 ],
 "metadata": {
  "kernelspec": {
   "display_name": "Python 3",
   "language": "python",
   "name": "python3"
  },
  "language_info": {
   "codemirror_mode": {
    "name": "ipython",
    "version": 3
   },
   "file_extension": ".py",
   "mimetype": "text/x-python",
   "name": "python",
   "nbconvert_exporter": "python",
   "pygments_lexer": "ipython3",
   "version": "3.8.8"
  },
  "toc": {
   "base_numbering": 1,
   "nav_menu": {},
   "number_sections": true,
   "sideBar": true,
   "skip_h1_title": false,
   "title_cell": "Table of Contents",
   "title_sidebar": "Contents",
   "toc_cell": false,
   "toc_position": {},
   "toc_section_display": true,
   "toc_window_display": false
  }
 },
 "nbformat": 4,
 "nbformat_minor": 5
}
